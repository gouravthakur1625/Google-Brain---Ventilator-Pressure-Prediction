{
 "cells": [
  {
   "cell_type": "code",
   "execution_count": 1,
   "id": "0a30aab0",
   "metadata": {},
   "outputs": [],
   "source": [
    "import numpy as np\n",
    "import pandas as pd\n",
    "import matplotlib.pyplot as plt\n",
    "import seaborn as sns\n",
    "%matplotlib inline"
   ]
  },
  {
   "cell_type": "code",
   "execution_count": 11,
   "id": "215010a8",
   "metadata": {},
   "outputs": [
    {
     "name": "stderr",
     "output_type": "stream",
     "text": [
      "C:\\Users\\Hp\\anaconda3\\lib\\site-packages\\numpy\\lib\\arraysetops.py:583: FutureWarning: elementwise comparison failed; returning scalar instead, but in the future will perform elementwise comparison\n",
      "  mask |= (ar1 == a)\n"
     ]
    }
   ],
   "source": [
    "df_train = pd.read_csv('D:\\\\Data Sets\\\\train.csv',index_col=0)\n",
    "df_test = pd.read_csv('D:\\\\Data Sets\\\\test.csv',index_col=0)"
   ]
  },
  {
   "cell_type": "code",
   "execution_count": 12,
   "id": "27770208",
   "metadata": {},
   "outputs": [
    {
     "data": {
      "text/html": [
       "<div>\n",
       "<style scoped>\n",
       "    .dataframe tbody tr th:only-of-type {\n",
       "        vertical-align: middle;\n",
       "    }\n",
       "\n",
       "    .dataframe tbody tr th {\n",
       "        vertical-align: top;\n",
       "    }\n",
       "\n",
       "    .dataframe thead th {\n",
       "        text-align: right;\n",
       "    }\n",
       "</style>\n",
       "<table border=\"1\" class=\"dataframe\">\n",
       "  <thead>\n",
       "    <tr style=\"text-align: right;\">\n",
       "      <th></th>\n",
       "      <th>breath_id</th>\n",
       "      <th>R</th>\n",
       "      <th>C</th>\n",
       "      <th>time_step</th>\n",
       "      <th>u_in</th>\n",
       "      <th>u_out</th>\n",
       "      <th>pressure</th>\n",
       "    </tr>\n",
       "    <tr>\n",
       "      <th>id</th>\n",
       "      <th></th>\n",
       "      <th></th>\n",
       "      <th></th>\n",
       "      <th></th>\n",
       "      <th></th>\n",
       "      <th></th>\n",
       "      <th></th>\n",
       "    </tr>\n",
       "  </thead>\n",
       "  <tbody>\n",
       "    <tr>\n",
       "      <th>1</th>\n",
       "      <td>1</td>\n",
       "      <td>20</td>\n",
       "      <td>50</td>\n",
       "      <td>0.000000</td>\n",
       "      <td>0.083334</td>\n",
       "      <td>0</td>\n",
       "      <td>5.837492</td>\n",
       "    </tr>\n",
       "    <tr>\n",
       "      <th>2</th>\n",
       "      <td>1</td>\n",
       "      <td>20</td>\n",
       "      <td>50</td>\n",
       "      <td>0.033652</td>\n",
       "      <td>18.383041</td>\n",
       "      <td>0</td>\n",
       "      <td>5.907794</td>\n",
       "    </tr>\n",
       "    <tr>\n",
       "      <th>3</th>\n",
       "      <td>1</td>\n",
       "      <td>20</td>\n",
       "      <td>50</td>\n",
       "      <td>0.067514</td>\n",
       "      <td>22.509278</td>\n",
       "      <td>0</td>\n",
       "      <td>7.876254</td>\n",
       "    </tr>\n",
       "    <tr>\n",
       "      <th>4</th>\n",
       "      <td>1</td>\n",
       "      <td>20</td>\n",
       "      <td>50</td>\n",
       "      <td>0.101542</td>\n",
       "      <td>22.808822</td>\n",
       "      <td>0</td>\n",
       "      <td>11.742872</td>\n",
       "    </tr>\n",
       "    <tr>\n",
       "      <th>5</th>\n",
       "      <td>1</td>\n",
       "      <td>20</td>\n",
       "      <td>50</td>\n",
       "      <td>0.135756</td>\n",
       "      <td>25.355850</td>\n",
       "      <td>0</td>\n",
       "      <td>12.234987</td>\n",
       "    </tr>\n",
       "  </tbody>\n",
       "</table>\n",
       "</div>"
      ],
      "text/plain": [
       "    breath_id   R   C  time_step       u_in  u_out   pressure\n",
       "id                                                           \n",
       "1           1  20  50   0.000000   0.083334      0   5.837492\n",
       "2           1  20  50   0.033652  18.383041      0   5.907794\n",
       "3           1  20  50   0.067514  22.509278      0   7.876254\n",
       "4           1  20  50   0.101542  22.808822      0  11.742872\n",
       "5           1  20  50   0.135756  25.355850      0  12.234987"
      ]
     },
     "execution_count": 12,
     "metadata": {},
     "output_type": "execute_result"
    }
   ],
   "source": [
    "df_train.head()"
   ]
  },
  {
   "cell_type": "code",
   "execution_count": 13,
   "id": "0aedcfbe",
   "metadata": {},
   "outputs": [
    {
     "data": {
      "text/html": [
       "<div>\n",
       "<style scoped>\n",
       "    .dataframe tbody tr th:only-of-type {\n",
       "        vertical-align: middle;\n",
       "    }\n",
       "\n",
       "    .dataframe tbody tr th {\n",
       "        vertical-align: top;\n",
       "    }\n",
       "\n",
       "    .dataframe thead th {\n",
       "        text-align: right;\n",
       "    }\n",
       "</style>\n",
       "<table border=\"1\" class=\"dataframe\">\n",
       "  <thead>\n",
       "    <tr style=\"text-align: right;\">\n",
       "      <th></th>\n",
       "      <th>breath_id</th>\n",
       "      <th>R</th>\n",
       "      <th>C</th>\n",
       "      <th>time_step</th>\n",
       "      <th>u_in</th>\n",
       "      <th>u_out</th>\n",
       "    </tr>\n",
       "    <tr>\n",
       "      <th>id</th>\n",
       "      <th></th>\n",
       "      <th></th>\n",
       "      <th></th>\n",
       "      <th></th>\n",
       "      <th></th>\n",
       "      <th></th>\n",
       "    </tr>\n",
       "  </thead>\n",
       "  <tbody>\n",
       "    <tr>\n",
       "      <th>1</th>\n",
       "      <td>0</td>\n",
       "      <td>5</td>\n",
       "      <td>20</td>\n",
       "      <td>0.000000</td>\n",
       "      <td>0.000000</td>\n",
       "      <td>0</td>\n",
       "    </tr>\n",
       "    <tr>\n",
       "      <th>2</th>\n",
       "      <td>0</td>\n",
       "      <td>5</td>\n",
       "      <td>20</td>\n",
       "      <td>0.031904</td>\n",
       "      <td>7.515046</td>\n",
       "      <td>0</td>\n",
       "    </tr>\n",
       "    <tr>\n",
       "      <th>3</th>\n",
       "      <td>0</td>\n",
       "      <td>5</td>\n",
       "      <td>20</td>\n",
       "      <td>0.063827</td>\n",
       "      <td>14.651675</td>\n",
       "      <td>0</td>\n",
       "    </tr>\n",
       "    <tr>\n",
       "      <th>4</th>\n",
       "      <td>0</td>\n",
       "      <td>5</td>\n",
       "      <td>20</td>\n",
       "      <td>0.095751</td>\n",
       "      <td>21.230610</td>\n",
       "      <td>0</td>\n",
       "    </tr>\n",
       "    <tr>\n",
       "      <th>5</th>\n",
       "      <td>0</td>\n",
       "      <td>5</td>\n",
       "      <td>20</td>\n",
       "      <td>0.127644</td>\n",
       "      <td>26.320956</td>\n",
       "      <td>0</td>\n",
       "    </tr>\n",
       "  </tbody>\n",
       "</table>\n",
       "</div>"
      ],
      "text/plain": [
       "    breath_id  R   C  time_step       u_in  u_out\n",
       "id                                               \n",
       "1           0  5  20   0.000000   0.000000      0\n",
       "2           0  5  20   0.031904   7.515046      0\n",
       "3           0  5  20   0.063827  14.651675      0\n",
       "4           0  5  20   0.095751  21.230610      0\n",
       "5           0  5  20   0.127644  26.320956      0"
      ]
     },
     "execution_count": 13,
     "metadata": {},
     "output_type": "execute_result"
    }
   ],
   "source": [
    "df_test.head()"
   ]
  },
  {
   "cell_type": "code",
   "execution_count": 14,
   "id": "25896008",
   "metadata": {},
   "outputs": [
    {
     "name": "stdout",
     "output_type": "stream",
     "text": [
      "<class 'pandas.core.frame.DataFrame'>\n",
      "Int64Index: 6036000 entries, 1 to 6036000\n",
      "Data columns (total 7 columns):\n",
      " #   Column     Dtype  \n",
      "---  ------     -----  \n",
      " 0   breath_id  int64  \n",
      " 1   R          int64  \n",
      " 2   C          int64  \n",
      " 3   time_step  float64\n",
      " 4   u_in       float64\n",
      " 5   u_out      int64  \n",
      " 6   pressure   float64\n",
      "dtypes: float64(3), int64(4)\n",
      "memory usage: 368.4 MB\n"
     ]
    }
   ],
   "source": [
    "df_train.info()"
   ]
  },
  {
   "cell_type": "code",
   "execution_count": 15,
   "id": "5d15d876",
   "metadata": {},
   "outputs": [
    {
     "name": "stdout",
     "output_type": "stream",
     "text": [
      "<class 'pandas.core.frame.DataFrame'>\n",
      "Int64Index: 4024000 entries, 1 to 4024000\n",
      "Data columns (total 6 columns):\n",
      " #   Column     Dtype  \n",
      "---  ------     -----  \n",
      " 0   breath_id  int64  \n",
      " 1   R          int64  \n",
      " 2   C          int64  \n",
      " 3   time_step  float64\n",
      " 4   u_in       float64\n",
      " 5   u_out      int64  \n",
      "dtypes: float64(2), int64(4)\n",
      "memory usage: 214.9 MB\n"
     ]
    }
   ],
   "source": [
    "df_test.info()"
   ]
  },
  {
   "cell_type": "code",
   "execution_count": 16,
   "id": "1319b1fd",
   "metadata": {},
   "outputs": [
    {
     "data": {
      "text/plain": [
       "breath_id    0\n",
       "R            0\n",
       "C            0\n",
       "time_step    0\n",
       "u_in         0\n",
       "u_out        0\n",
       "pressure     0\n",
       "dtype: int64"
      ]
     },
     "execution_count": 16,
     "metadata": {},
     "output_type": "execute_result"
    }
   ],
   "source": [
    "df_train.isnull().sum()"
   ]
  },
  {
   "cell_type": "code",
   "execution_count": 17,
   "id": "e9af555c",
   "metadata": {},
   "outputs": [
    {
     "data": {
      "text/plain": [
       "breath_id    0\n",
       "R            0\n",
       "C            0\n",
       "time_step    0\n",
       "u_in         0\n",
       "u_out        0\n",
       "dtype: int64"
      ]
     },
     "execution_count": 17,
     "metadata": {},
     "output_type": "execute_result"
    }
   ],
   "source": [
    "df_test.isnull().sum()"
   ]
  },
  {
   "cell_type": "code",
   "execution_count": 22,
   "id": "68a8f677",
   "metadata": {},
   "outputs": [
    {
     "data": {
      "text/plain": [
       "2.9372379779815674"
      ]
     },
     "execution_count": 22,
     "metadata": {},
     "output_type": "execute_result"
    }
   ],
   "source": [
    "df_train.time_step.max()"
   ]
  },
  {
   "cell_type": "code",
   "execution_count": 23,
   "id": "68902db5",
   "metadata": {},
   "outputs": [
    {
     "data": {
      "text/plain": [
       "0.999798059463501"
      ]
     },
     "execution_count": 23,
     "metadata": {},
     "output_type": "execute_result"
    }
   ],
   "source": [
    "df_train.query('u_out == 0').time_step.max()"
   ]
  },
  {
   "cell_type": "code",
   "execution_count": 24,
   "id": "d24dd5c7",
   "metadata": {},
   "outputs": [
    {
     "data": {
      "text/html": [
       "<div>\n",
       "<style scoped>\n",
       "    .dataframe tbody tr th:only-of-type {\n",
       "        vertical-align: middle;\n",
       "    }\n",
       "\n",
       "    .dataframe tbody tr th {\n",
       "        vertical-align: top;\n",
       "    }\n",
       "\n",
       "    .dataframe thead th {\n",
       "        text-align: right;\n",
       "    }\n",
       "</style>\n",
       "<table border=\"1\" class=\"dataframe\">\n",
       "  <thead>\n",
       "    <tr style=\"text-align: right;\">\n",
       "      <th></th>\n",
       "      <th>breath_id</th>\n",
       "      <th>R</th>\n",
       "      <th>C</th>\n",
       "      <th>time_step</th>\n",
       "      <th>u_in</th>\n",
       "      <th>u_out</th>\n",
       "      <th>pressure</th>\n",
       "    </tr>\n",
       "  </thead>\n",
       "  <tbody>\n",
       "    <tr>\n",
       "      <th>0</th>\n",
       "      <td>1</td>\n",
       "      <td>20</td>\n",
       "      <td>50</td>\n",
       "      <td>0.000000</td>\n",
       "      <td>0.083334</td>\n",
       "      <td>0</td>\n",
       "      <td>5.837492</td>\n",
       "    </tr>\n",
       "    <tr>\n",
       "      <th>1</th>\n",
       "      <td>1</td>\n",
       "      <td>20</td>\n",
       "      <td>50</td>\n",
       "      <td>0.033652</td>\n",
       "      <td>18.383041</td>\n",
       "      <td>0</td>\n",
       "      <td>5.907794</td>\n",
       "    </tr>\n",
       "    <tr>\n",
       "      <th>2</th>\n",
       "      <td>1</td>\n",
       "      <td>20</td>\n",
       "      <td>50</td>\n",
       "      <td>0.067514</td>\n",
       "      <td>22.509278</td>\n",
       "      <td>0</td>\n",
       "      <td>7.876254</td>\n",
       "    </tr>\n",
       "    <tr>\n",
       "      <th>3</th>\n",
       "      <td>1</td>\n",
       "      <td>20</td>\n",
       "      <td>50</td>\n",
       "      <td>0.101542</td>\n",
       "      <td>22.808822</td>\n",
       "      <td>0</td>\n",
       "      <td>11.742872</td>\n",
       "    </tr>\n",
       "    <tr>\n",
       "      <th>4</th>\n",
       "      <td>1</td>\n",
       "      <td>20</td>\n",
       "      <td>50</td>\n",
       "      <td>0.135756</td>\n",
       "      <td>25.355850</td>\n",
       "      <td>0</td>\n",
       "      <td>12.234987</td>\n",
       "    </tr>\n",
       "    <tr>\n",
       "      <th>...</th>\n",
       "      <td>...</td>\n",
       "      <td>...</td>\n",
       "      <td>...</td>\n",
       "      <td>...</td>\n",
       "      <td>...</td>\n",
       "      <td>...</td>\n",
       "      <td>...</td>\n",
       "    </tr>\n",
       "    <tr>\n",
       "      <th>75</th>\n",
       "      <td>1</td>\n",
       "      <td>20</td>\n",
       "      <td>50</td>\n",
       "      <td>2.553593</td>\n",
       "      <td>4.974474</td>\n",
       "      <td>1</td>\n",
       "      <td>6.399909</td>\n",
       "    </tr>\n",
       "    <tr>\n",
       "      <th>76</th>\n",
       "      <td>1</td>\n",
       "      <td>20</td>\n",
       "      <td>50</td>\n",
       "      <td>2.587754</td>\n",
       "      <td>4.978481</td>\n",
       "      <td>1</td>\n",
       "      <td>6.610815</td>\n",
       "    </tr>\n",
       "    <tr>\n",
       "      <th>77</th>\n",
       "      <td>1</td>\n",
       "      <td>20</td>\n",
       "      <td>50</td>\n",
       "      <td>2.621773</td>\n",
       "      <td>4.981847</td>\n",
       "      <td>1</td>\n",
       "      <td>6.329607</td>\n",
       "    </tr>\n",
       "    <tr>\n",
       "      <th>78</th>\n",
       "      <td>1</td>\n",
       "      <td>20</td>\n",
       "      <td>50</td>\n",
       "      <td>2.655746</td>\n",
       "      <td>4.984683</td>\n",
       "      <td>1</td>\n",
       "      <td>6.540513</td>\n",
       "    </tr>\n",
       "    <tr>\n",
       "      <th>79</th>\n",
       "      <td>1</td>\n",
       "      <td>20</td>\n",
       "      <td>50</td>\n",
       "      <td>2.689766</td>\n",
       "      <td>4.987079</td>\n",
       "      <td>1</td>\n",
       "      <td>6.470211</td>\n",
       "    </tr>\n",
       "  </tbody>\n",
       "</table>\n",
       "<p>80 rows × 7 columns</p>\n",
       "</div>"
      ],
      "text/plain": [
       "    breath_id   R   C  time_step       u_in  u_out   pressure\n",
       "0           1  20  50   0.000000   0.083334      0   5.837492\n",
       "1           1  20  50   0.033652  18.383041      0   5.907794\n",
       "2           1  20  50   0.067514  22.509278      0   7.876254\n",
       "3           1  20  50   0.101542  22.808822      0  11.742872\n",
       "4           1  20  50   0.135756  25.355850      0  12.234987\n",
       "..        ...  ..  ..        ...        ...    ...        ...\n",
       "75          1  20  50   2.553593   4.974474      1   6.399909\n",
       "76          1  20  50   2.587754   4.978481      1   6.610815\n",
       "77          1  20  50   2.621773   4.981847      1   6.329607\n",
       "78          1  20  50   2.655746   4.984683      1   6.540513\n",
       "79          1  20  50   2.689766   4.987079      1   6.470211\n",
       "\n",
       "[80 rows x 7 columns]"
      ]
     },
     "execution_count": 24,
     "metadata": {},
     "output_type": "execute_result"
    }
   ],
   "source": [
    "breath_one = df_train.query('breath_id == 1').reset_index(drop = True)\n",
    "breath_one"
   ]
  },
  {
   "cell_type": "code",
   "execution_count": 25,
   "id": "bad90669",
   "metadata": {},
   "outputs": [
    {
     "data": {
      "text/html": [
       "<div>\n",
       "<style scoped>\n",
       "    .dataframe tbody tr th:only-of-type {\n",
       "        vertical-align: middle;\n",
       "    }\n",
       "\n",
       "    .dataframe tbody tr th {\n",
       "        vertical-align: top;\n",
       "    }\n",
       "\n",
       "    .dataframe thead th {\n",
       "        text-align: right;\n",
       "    }\n",
       "</style>\n",
       "<table border=\"1\" class=\"dataframe\">\n",
       "  <thead>\n",
       "    <tr style=\"text-align: right;\">\n",
       "      <th></th>\n",
       "      <th>0</th>\n",
       "    </tr>\n",
       "  </thead>\n",
       "  <tbody>\n",
       "    <tr>\n",
       "      <th>breath_id</th>\n",
       "      <td>1</td>\n",
       "    </tr>\n",
       "    <tr>\n",
       "      <th>R</th>\n",
       "      <td>1</td>\n",
       "    </tr>\n",
       "    <tr>\n",
       "      <th>C</th>\n",
       "      <td>1</td>\n",
       "    </tr>\n",
       "    <tr>\n",
       "      <th>time_step</th>\n",
       "      <td>80</td>\n",
       "    </tr>\n",
       "    <tr>\n",
       "      <th>u_in</th>\n",
       "      <td>66</td>\n",
       "    </tr>\n",
       "    <tr>\n",
       "      <th>u_out</th>\n",
       "      <td>2</td>\n",
       "    </tr>\n",
       "    <tr>\n",
       "      <th>pressure</th>\n",
       "      <td>55</td>\n",
       "    </tr>\n",
       "  </tbody>\n",
       "</table>\n",
       "</div>"
      ],
      "text/plain": [
       "            0\n",
       "breath_id   1\n",
       "R           1\n",
       "C           1\n",
       "time_step  80\n",
       "u_in       66\n",
       "u_out       2\n",
       "pressure   55"
      ]
     },
     "execution_count": 25,
     "metadata": {},
     "output_type": "execute_result"
    }
   ],
   "source": [
    "breath_one.nunique().to_frame()"
   ]
  },
  {
   "cell_type": "code",
   "execution_count": 26,
   "id": "07ef3b05",
   "metadata": {},
   "outputs": [
    {
     "data": {
      "image/png": "[encoded data removed]",
      "text/plain": [
       "<Figure size 864x216 with 1 Axes>"
      ]
     },
     "metadata": {
      "needs_background": "light"
     },
     "output_type": "display_data"
    },
    {
     "data": {
      "image/png": "[encoded data removed]",
      "text/plain": [
       "<Figure size 864x216 with 1 Axes>"
      ]
     },
     "metadata": {
      "needs_background": "light"
     },
     "output_type": "display_data"
    },
    {
     "data": {
      "image/png": "[encoded data removed]",
      "text/plain": [
       "<Figure size 864x216 with 1 Axes>"
      ]
     },
     "metadata": {
      "needs_background": "light"
     },
     "output_type": "display_data"
    }
   ],
   "source": [
    "breath_one.plot(x=\"time_step\", y=\"u_in\", kind='line',figsize=(12,3), lw=2, title=\"u_in\");\n",
    "breath_one.plot(x=\"time_step\", y=\"u_out\", kind='line',figsize=(12,3), lw=2, title=\"u_out\");\n",
    "breath_one.plot(x=\"time_step\", y=\"pressure\", kind='line',figsize=(12,3), lw=2, title=\"pressure\");"
   ]
  },
  {
   "cell_type": "code",
   "execution_count": 27,
   "id": "64af17ab",
   "metadata": {},
   "outputs": [
    {
     "data": {
      "text/html": [
       "<div>\n",
       "<style scoped>\n",
       "    .dataframe tbody tr th:only-of-type {\n",
       "        vertical-align: middle;\n",
       "    }\n",
       "\n",
       "    .dataframe tbody tr th {\n",
       "        vertical-align: top;\n",
       "    }\n",
       "\n",
       "    .dataframe thead th {\n",
       "        text-align: right;\n",
       "    }\n",
       "</style>\n",
       "<table border=\"1\" class=\"dataframe\">\n",
       "  <thead>\n",
       "    <tr style=\"text-align: right;\">\n",
       "      <th></th>\n",
       "      <th>R</th>\n",
       "    </tr>\n",
       "  </thead>\n",
       "  <tbody>\n",
       "    <tr>\n",
       "      <th>50</th>\n",
       "      <td>2410080</td>\n",
       "    </tr>\n",
       "    <tr>\n",
       "      <th>5</th>\n",
       "      <td>1988800</td>\n",
       "    </tr>\n",
       "    <tr>\n",
       "      <th>20</th>\n",
       "      <td>1637120</td>\n",
       "    </tr>\n",
       "  </tbody>\n",
       "</table>\n",
       "</div>"
      ],
      "text/plain": [
       "          R\n",
       "50  2410080\n",
       "5   1988800\n",
       "20  1637120"
      ]
     },
     "execution_count": 27,
     "metadata": {},
     "output_type": "execute_result"
    }
   ],
   "source": [
    "df_train.R.value_counts().to_frame()"
   ]
  },
  {
   "cell_type": "code",
   "execution_count": 28,
   "id": "97c6dec6",
   "metadata": {},
   "outputs": [
    {
     "data": {
      "text/html": [
       "<div>\n",
       "<style scoped>\n",
       "    .dataframe tbody tr th:only-of-type {\n",
       "        vertical-align: middle;\n",
       "    }\n",
       "\n",
       "    .dataframe tbody tr th {\n",
       "        vertical-align: top;\n",
       "    }\n",
       "\n",
       "    .dataframe thead th {\n",
       "        text-align: right;\n",
       "    }\n",
       "</style>\n",
       "<table border=\"1\" class=\"dataframe\">\n",
       "  <thead>\n",
       "    <tr style=\"text-align: right;\">\n",
       "      <th></th>\n",
       "      <th>C</th>\n",
       "    </tr>\n",
       "  </thead>\n",
       "  <tbody>\n",
       "    <tr>\n",
       "      <th>10</th>\n",
       "      <td>2244720</td>\n",
       "    </tr>\n",
       "    <tr>\n",
       "      <th>50</th>\n",
       "      <td>1971680</td>\n",
       "    </tr>\n",
       "    <tr>\n",
       "      <th>20</th>\n",
       "      <td>1819600</td>\n",
       "    </tr>\n",
       "  </tbody>\n",
       "</table>\n",
       "</div>"
      ],
      "text/plain": [
       "          C\n",
       "10  2244720\n",
       "50  1971680\n",
       "20  1819600"
      ]
     },
     "execution_count": 28,
     "metadata": {},
     "output_type": "execute_result"
    }
   ],
   "source": [
    "df_train.C.value_counts().to_frame()"
   ]
  },
  {
   "cell_type": "code",
   "execution_count": 30,
   "id": "a8554cf1",
   "metadata": {},
   "outputs": [
    {
     "data": {
      "text/html": [
       "<div>\n",
       "<style scoped>\n",
       "    .dataframe tbody tr th:only-of-type {\n",
       "        vertical-align: middle;\n",
       "    }\n",
       "\n",
       "    .dataframe tbody tr th {\n",
       "        vertical-align: top;\n",
       "    }\n",
       "\n",
       "    .dataframe thead th {\n",
       "        text-align: right;\n",
       "    }\n",
       "</style>\n",
       "<table border=\"1\" class=\"dataframe\">\n",
       "  <thead>\n",
       "    <tr style=\"text-align: right;\">\n",
       "      <th></th>\n",
       "      <th>u_out</th>\n",
       "    </tr>\n",
       "  </thead>\n",
       "  <tbody>\n",
       "    <tr>\n",
       "      <th>1</th>\n",
       "      <td>3745032</td>\n",
       "    </tr>\n",
       "    <tr>\n",
       "      <th>0</th>\n",
       "      <td>2290968</td>\n",
       "    </tr>\n",
       "  </tbody>\n",
       "</table>\n",
       "</div>"
      ],
      "text/plain": [
       "     u_out\n",
       "1  3745032\n",
       "0  2290968"
      ]
     },
     "execution_count": 30,
     "metadata": {},
     "output_type": "execute_result"
    }
   ],
   "source": [
    "df_train.u_out.value_counts().to_frame()"
   ]
  },
  {
   "cell_type": "code",
   "execution_count": 31,
   "id": "42be0a24",
   "metadata": {},
   "outputs": [
    {
     "data": {
      "text/plain": [
       "64.8209917386395"
      ]
     },
     "execution_count": 31,
     "metadata": {},
     "output_type": "execute_result"
    }
   ],
   "source": [
    "df_train.pressure.max()"
   ]
  },
  {
   "cell_type": "code",
   "execution_count": 33,
   "id": "498403e1",
   "metadata": {},
   "outputs": [
    {
     "name": "stderr",
     "output_type": "stream",
     "text": [
      "C:\\Users\\Hp\\anaconda3\\lib\\site-packages\\seaborn\\distributions.py:2557: FutureWarning: `distplot` is a deprecated function and will be removed in a future version. Please adapt your code to use either `displot` (a figure-level function with similar flexibility) or `histplot` (an axes-level function for histograms).\n",
      "  warnings.warn(msg, FutureWarning)\n"
     ]
    },
    {
     "data": {
      "image/png": "[encoded data removed]",
      "text/plain": [
       "<Figure size 864x360 with 1 Axes>"
      ]
     },
     "metadata": {
      "needs_background": "light"
     },
     "output_type": "display_data"
    }
   ],
   "source": [
    "plt.figure(figsize = (12,5))\n",
    "ax = sns.distplot(df_train['pressure'], \n",
    "             bins=120, \n",
    "             kde_kws={\"clip\":(0,40)}, \n",
    "             hist_kws={\"range\":(0,40)},\n",
    "             color='darkcyan', \n",
    "             kde=False);\n",
    "values = np.array([rec.get_height() for rec in ax.patches])\n",
    "norm = plt.Normalize(values.min(), values.max())\n",
    "colors = plt.cm.jet(norm(values))\n",
    "for rec, col in zip(ax.patches, colors):\n",
    "    rec.set_color(col)\n",
    "plt.xlabel(\"Histogram of pressures\", size=14)\n",
    "ax.set(yticklabels=[])\n",
    "plt.show();"
   ]
  },
  {
   "cell_type": "code",
   "execution_count": 35,
   "id": "03c1e53e",
   "metadata": {},
   "outputs": [
    {
     "data": {
      "text/plain": [
       "7.032628177739799"
      ]
     },
     "execution_count": 35,
     "metadata": {},
     "output_type": "execute_result"
    }
   ],
   "source": [
    "df_train.pressure.median()"
   ]
  },
  {
   "cell_type": "code",
   "execution_count": 36,
   "id": "1fe9da47",
   "metadata": {},
   "outputs": [],
   "source": [
    "train_data = df_train"
   ]
  },
  {
   "cell_type": "code",
   "execution_count": 37,
   "id": "4b0f71f2",
   "metadata": {},
   "outputs": [
    {
     "data": {
      "image/png": "[encoded data removed]",
      "text/plain": [
       "<Figure size 1080x1080 with 9 Axes>"
      ]
     },
     "metadata": {
      "needs_background": "light"
     },
     "output_type": "display_data"
    }
   ],
   "source": [
    "breath_2 = train_data.query('breath_id == 2').reset_index(drop = True)\n",
    "breath_3 = train_data.query('breath_id == 3').reset_index(drop = True)\n",
    "breath_4 = train_data.query('breath_id == 4').reset_index(drop = True)\n",
    "breath_5 = train_data.query('breath_id == 5').reset_index(drop = True)\n",
    "breath_17 = train_data.query('breath_id == 17').reset_index(drop = True)\n",
    "breath_18 = train_data.query('breath_id == 18').reset_index(drop = True)\n",
    "breath_21 = train_data.query('breath_id == 21').reset_index(drop = True)\n",
    "breath_39 = train_data.query('breath_id == 39').reset_index(drop = True)\n",
    "\n",
    "fig, axes = plt.subplots(3,3,figsize=(15,15))\n",
    "sns.lineplot(data=breath_39, x=\"time_step\", y=\"pressure\", lw=2, ax=axes[0,0])\n",
    "axes[0,0].set_title (\"R=5, C=10\", fontsize=18)\n",
    "axes[0,0].set(xlabel='')\n",
    "sns.lineplot(data=breath_21, x=\"time_step\", y=\"pressure\",  lw=2, ax=axes[0,1])\n",
    "axes[0,1].set_title (\"R=20, C=10\", fontsize=18)\n",
    "axes[0,1].set(xlabel='')\n",
    "axes[0,1].set(ylabel='')\n",
    "sns.lineplot(data=breath_18, x=\"time_step\", y=\"pressure\",  lw=2,ax=axes[0,2])\n",
    "axes[0,2].set_title (\"R=50, C=10\", fontsize=18)\n",
    "axes[0,2].set(xlabel='')\n",
    "axes[0,2].set(ylabel='')\n",
    "sns.lineplot(data=breath_17, x=\"time_step\", y=\"pressure\",  lw=2,ax=axes[1,0])\n",
    "axes[1,0].set_title (\"R=5, C=20\", fontsize=18)\n",
    "axes[1,0].set(xlabel='')\n",
    "sns.lineplot(data=breath_2, x=\"time_step\", y=\"pressure\",  lw=2,ax=axes[1,1])\n",
    "axes[1,1].set_title (\"R=20, C=20\", fontsize=18)\n",
    "axes[1,1].set(xlabel='')\n",
    "axes[1,1].set(ylabel='')\n",
    "sns.lineplot(data=breath_3, x=\"time_step\", y=\"pressure\",  lw=2,ax=axes[1,2])\n",
    "axes[1,2].set_title (\"R=50, C=20\", fontsize=18)\n",
    "axes[1,2].set(xlabel='')\n",
    "axes[1,2].set(ylabel='')\n",
    "sns.lineplot(data=breath_5, x=\"time_step\", y=\"pressure\",  lw=2,ax=axes[2,0])\n",
    "axes[2,0].set_title (\"R=5, C=50\", fontsize=18)\n",
    "sns.lineplot(data=breath_one, x=\"time_step\", y=\"pressure\",  lw=2,ax=axes[2,1])\n",
    "axes[2,1].set_title (\"R=20, C=50\", fontsize=18)\n",
    "axes[2,1].set(ylabel='')\n",
    "sns.lineplot(data=breath_4, x=\"time_step\", y=\"pressure\",  lw=2,ax=axes[2,2])\n",
    "axes[2,2].set_title (\"R=50, C=50\", fontsize=18)\n",
    "axes[2,2].set(ylabel='')\n",
    "plt.show();"
   ]
  },
  {
   "cell_type": "code",
   "execution_count": 40,
   "id": "0d65fdeb",
   "metadata": {},
   "outputs": [],
   "source": [
    "train_data = df_train"
   ]
  },
  {
   "cell_type": "code",
   "execution_count": 43,
   "id": "698bea23",
   "metadata": {},
   "outputs": [],
   "source": [
    "sample = pd.read_csv('D:\\\\Data Sets\\\\sample_submission.csv')"
   ]
  },
  {
   "cell_type": "code",
   "execution_count": 44,
   "id": "5a9fc93c",
   "metadata": {},
   "outputs": [],
   "source": [
    "X_train = train_data.iloc[:,:-1]\n",
    "y_train = train_data.iloc['pressure']\n",
    "from sklearn.experimental import enable_hist_gradient_boosting\n",
    "from sklearn.ensemble     import HistGradientBoostingRegressor\n",
    "regressor  =  HistGradientBoostingRegressor()\n",
    "regressor.fit(X_train, y_train)\n",
    "sample[\"pressure\"] = regressor.predict(df_test)\n",
    "sample.to_csv('submission.csv',index=False)"
   ]
  },
  {
   "cell_type": "code",
   "execution_count": null,
   "id": "dcf3baa6",
   "metadata": {},
   "outputs": [],
   "source": []
  }
 ],
 "metadata": {
  "kernelspec": {
   "display_name": "Python 3",
   "language": "python",
   "name": "python3"
  },
  "language_info": {
   "codemirror_mode": {
    "name": "ipython",
    "version": 3
   },
   "file_extension": ".py",
   "mimetype": "text/x-python",
   "name": "python",
   "nbconvert_exporter": "python",
   "pygments_lexer": "ipython3",
   "version": "3.8.8"
  }
 },
 "nbformat": 4,
 "nbformat_minor": 5
}
